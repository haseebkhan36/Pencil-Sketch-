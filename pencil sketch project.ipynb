{
 "cells": [
  {
   "cell_type": "markdown",
   "id": "fa55daa9",
   "metadata": {},
   "source": [
    "# Image to pencil sketch"
   ]
  },
  {
   "cell_type": "markdown",
   "id": "3ea782a5",
   "metadata": {},
   "source": [
    "### import reqired library"
   ]
  },
  {
   "cell_type": "code",
   "execution_count": 3,
   "id": "da26080f",
   "metadata": {},
   "outputs": [],
   "source": [
    "import numpy as np\n",
    "import cv2\n",
    "import matplotlib.pyplot as plt\n",
    "import matplotlib.image as matim\n",
    "import ipywidgets as widgets\n"
   ]
  },
  {
   "cell_type": "markdown",
   "id": "398a069f",
   "metadata": {},
   "source": [
    "### Define gamma function for image lookup table "
   ]
  },
  {
   "cell_type": "code",
   "execution_count": 4,
   "id": "68258bc1",
   "metadata": {},
   "outputs": [],
   "source": [
    "def adjust_gamma(image, gamma = 1):\n",
    "    invGamma = 1.0/gamma\n",
    "    table = np.array([((i/255)**invGamma)*255 for i in np.arange(0, 256)]) #lookup table \n",
    "    lut_img = cv2.LUT(image.astype(np.uint8), table.astype(np.uint8))\n",
    "    return lut_img"
   ]
  },
  {
   "cell_type": "markdown",
   "id": "24825816",
   "metadata": {},
   "source": [
    "### Load the image"
   ]
  },
  {
   "cell_type": "code",
   "execution_count": 5,
   "id": "7340a7ba",
   "metadata": {},
   "outputs": [],
   "source": [
    "path = './images/dolphin.jpg'\n",
    "img = matim.imread(path)"
   ]
  },
  {
   "cell_type": "markdown",
   "id": "415ef3ab",
   "metadata": {},
   "source": [
    "### Perform required operations "
   ]
  },
  {
   "cell_type": "code",
   "execution_count": 6,
   "id": "05dfd212",
   "metadata": {
    "scrolled": true
   },
   "outputs": [
    {
     "data": {
      "application/vnd.jupyter.widget-view+json": {
       "model_id": "7676e609ba1445c4b5edb57731c1dde4",
       "version_major": 2,
       "version_minor": 0
      },
      "text/plain": [
       "interactive(children=(IntSlider(value=21, description='ksize', max=25, min=3, step=2), IntSlider(value=9, desc…"
      ]
     },
     "metadata": {},
     "output_type": "display_data"
    }
   ],
   "source": [
    "@widgets.interact_manual(ksize = (3, 25, 2), sigmaX = (1, 15, 2), gamma = (0, 1, 0.1))\n",
    "def pencil_art_image(ksize = 21, sigmaX = 9, gamma = 0.1):\n",
    "    gray = cv2.cvtColor(img, cv2.COLOR_BGR2GRAY)\n",
    "    gray_blur = cv2.GaussianBlur(gray, (ksize, ksize), sigmaX) # ksize =3, to 25 and sigmax 1 to 15 \n",
    "    gray_blur_divide = cv2.divide(gray, gray_blur, scale=256)\n",
    "    pencil_sketch = adjust_gamma(gray_blur_divide, gamma=gamma)\n",
    "    \n",
    "    #display output \n",
    "    plt.figure(figsize = (15, 8))\n",
    "    plt.subplot(2,2,1)\n",
    "    plt.imshow(gray, cmap = 'gray')\n",
    "    plt.subplot(2,2,2)\n",
    "    plt.imshow(gray_blur, cmap = 'gray')\n",
    "    plt.subplot(2,2,3)\n",
    "    plt.imshow(gray_blur_divide, cmap = 'gray')\n",
    "    plt.subplot(2,2,4)\n",
    "    plt.imshow(pencil_sketch, cmap = 'gray')"
   ]
  },
  {
   "cell_type": "code",
   "execution_count": null,
   "id": "c3b00445",
   "metadata": {},
   "outputs": [],
   "source": []
  },
  {
   "cell_type": "code",
   "execution_count": null,
   "id": "af888066",
   "metadata": {},
   "outputs": [],
   "source": []
  }
 ],
 "metadata": {
  "kernelspec": {
   "display_name": "Python 3 (ipykernel)",
   "language": "python",
   "name": "python3"
  },
  "language_info": {
   "codemirror_mode": {
    "name": "ipython",
    "version": 3
   },
   "file_extension": ".py",
   "mimetype": "text/x-python",
   "name": "python",
   "nbconvert_exporter": "python",
   "pygments_lexer": "ipython3",
   "version": "3.9.12"
  }
 },
 "nbformat": 4,
 "nbformat_minor": 5
}
